{
 "cells": [
  {
   "cell_type": "markdown",
   "metadata": {},
   "source": [
    "# Multi-Panel Time Series Analytics of Drilling Parameters"
   ]
  },
  {
   "cell_type": "markdown",
   "metadata": {},
   "source": [
    "### Imports Libraries and Environment Setup\n",
    "This block initializes the environment by importing a broad spectrum of scientific and visualization libraries critical for drilling data analysis: `matplotlib`, `pandas`, `numpy`, `plotly`, `seaborn`, and `ipywidgets`. Warnings are globally suppressed to reduce noise, and Seaborn's whitegrid style is applied for polished visual output. This setup primes the notebook for clean, interactive, and layered time series plots — a necessity when dissecting complex downhole dynamics."
   ]
  },
  {
   "cell_type": "code",
   "execution_count": 1,
   "metadata": {},
   "outputs": [],
   "source": [
    "# Import libraries\n",
    "import matplotlib.pyplot as plt\n",
    "import pandas as pd\n",
    "import numpy as np\n",
    "\n",
    "import plotly.express as px\n",
    "import seaborn as sns\n",
    "\n",
    "from ipywidgets import interact, widgets\n",
    "from IPython.display import display\n",
    "\n",
    "import warnings\n",
    "# Turn off all warnings\n",
    "warnings.filterwarnings('ignore')\n",
    "\n",
    "# #set seaborn style\n",
    "sns.set_style(\"whitegrid\")\n",
    "\n",
    "%matplotlib inline\n"
   ]
  },
  {
   "cell_type": "markdown",
   "metadata": {},
   "source": [
    "### Data Ingestion\n",
    "The drilling dataset is ingested using `pandas.read_csv()`. The dataset represents high-frequency surface and downhole measurements from a top-hole drilling operation, and this cell sets the analytical foundation for all subsequent processing."
   ]
  },
  {
   "cell_type": "code",
   "execution_count": null,
   "metadata": {},
   "outputs": [],
   "source": [
    "# Load data\n",
    "df = pd.read_csv(r\"\\Datasets\\MIP-3H Top.csv\");"
   ]
  },
  {
   "cell_type": "markdown",
   "metadata": {},
   "source": [
    "### Initial Data Inspection\n",
    "The notebook examines the head of the dataframe and reveals a rich set of 119 columns with 72,687 time-indexed rows — a classic signature of rig sensor data logging. This step orients the analyst on the parameter landscape and scale, essential for filtering and targeted feature selection."
   ]
  },
  {
   "cell_type": "code",
   "execution_count": 6,
   "metadata": {},
   "outputs": [
    {
     "data": {
      "text/html": [
       "<div>\n",
       "<style scoped>\n",
       "    .dataframe tbody tr th:only-of-type {\n",
       "        vertical-align: middle;\n",
       "    }\n",
       "\n",
       "    .dataframe tbody tr th {\n",
       "        vertical-align: top;\n",
       "    }\n",
       "\n",
       "    .dataframe thead th {\n",
       "        text-align: right;\n",
       "    }\n",
       "</style>\n",
       "<table border=\"1\" class=\"dataframe\">\n",
       "  <thead>\n",
       "    <tr style=\"text-align: right;\">\n",
       "      <th></th>\n",
       "      <th>Hole Depth</th>\n",
       "      <th>Rate Of Penetration</th>\n",
       "      <th>Bit Depth</th>\n",
       "      <th>Time Of Penetration</th>\n",
       "      <th>Hook Load</th>\n",
       "      <th>Standpipe Pressure</th>\n",
       "      <th>Mud G/L Alarm State</th>\n",
       "      <th>Rotary RPM</th>\n",
       "      <th>Rotary Torque</th>\n",
       "      <th>Weight on Bit</th>\n",
       "      <th>...</th>\n",
       "      <th>P2 Rate</th>\n",
       "      <th>PVT Mud Tanks Included</th>\n",
       "      <th>PVT Monitor Mud Gain/Loss</th>\n",
       "      <th>PVT Mud G/L Threshold</th>\n",
       "      <th>Trip Tank 1 Refill Status</th>\n",
       "      <th>Flow 1 G/L Threshold</th>\n",
       "      <th>Trip Tank Fill</th>\n",
       "      <th>Trip Tank Accum</th>\n",
       "      <th>YYYY/MM/DD</th>\n",
       "      <th>HH:MM:SS</th>\n",
       "    </tr>\n",
       "  </thead>\n",
       "  <tbody>\n",
       "    <tr>\n",
       "      <th>0</th>\n",
       "      <td>59</td>\n",
       "      <td>4.86</td>\n",
       "      <td>59</td>\n",
       "      <td>12.34</td>\n",
       "      <td>5.5</td>\n",
       "      <td>235</td>\n",
       "      <td>0</td>\n",
       "      <td>20.0</td>\n",
       "      <td>3417.290</td>\n",
       "      <td>6.4</td>\n",
       "      <td>...</td>\n",
       "      <td>-999.25</td>\n",
       "      <td>-999.25</td>\n",
       "      <td>-999.25</td>\n",
       "      <td>0</td>\n",
       "      <td>-999.25</td>\n",
       "      <td>0</td>\n",
       "      <td>-999.25</td>\n",
       "      <td>-999.25</td>\n",
       "      <td>7/7/2015</td>\n",
       "      <td>0:18:18</td>\n",
       "    </tr>\n",
       "    <tr>\n",
       "      <th>1</th>\n",
       "      <td>60</td>\n",
       "      <td>16.17</td>\n",
       "      <td>60</td>\n",
       "      <td>3.71</td>\n",
       "      <td>2.9</td>\n",
       "      <td>323</td>\n",
       "      <td>0</td>\n",
       "      <td>20.0</td>\n",
       "      <td>1014.580</td>\n",
       "      <td>6.2</td>\n",
       "      <td>...</td>\n",
       "      <td>-999.25</td>\n",
       "      <td>-999.25</td>\n",
       "      <td>-999.25</td>\n",
       "      <td>0</td>\n",
       "      <td>-999.25</td>\n",
       "      <td>0</td>\n",
       "      <td>-999.25</td>\n",
       "      <td>-999.25</td>\n",
       "      <td>7/7/2015</td>\n",
       "      <td>0:18:47</td>\n",
       "    </tr>\n",
       "    <tr>\n",
       "      <th>2</th>\n",
       "      <td>61</td>\n",
       "      <td>29.55</td>\n",
       "      <td>61</td>\n",
       "      <td>2.03</td>\n",
       "      <td>4.6</td>\n",
       "      <td>327</td>\n",
       "      <td>0</td>\n",
       "      <td>20.0</td>\n",
       "      <td>1056.120</td>\n",
       "      <td>6.5</td>\n",
       "      <td>...</td>\n",
       "      <td>-999.25</td>\n",
       "      <td>-999.25</td>\n",
       "      <td>-999.25</td>\n",
       "      <td>0</td>\n",
       "      <td>-999.25</td>\n",
       "      <td>0</td>\n",
       "      <td>-999.25</td>\n",
       "      <td>-999.25</td>\n",
       "      <td>7/7/2015</td>\n",
       "      <td>0:19:23</td>\n",
       "    </tr>\n",
       "    <tr>\n",
       "      <th>3</th>\n",
       "      <td>62</td>\n",
       "      <td>38.89</td>\n",
       "      <td>62</td>\n",
       "      <td>1.54</td>\n",
       "      <td>3.3</td>\n",
       "      <td>328</td>\n",
       "      <td>0</td>\n",
       "      <td>20.0</td>\n",
       "      <td>1131.790</td>\n",
       "      <td>6.1</td>\n",
       "      <td>...</td>\n",
       "      <td>-999.25</td>\n",
       "      <td>-999.25</td>\n",
       "      <td>-999.25</td>\n",
       "      <td>0</td>\n",
       "      <td>-999.25</td>\n",
       "      <td>0</td>\n",
       "      <td>-999.25</td>\n",
       "      <td>-999.25</td>\n",
       "      <td>7/7/2015</td>\n",
       "      <td>0:19:47</td>\n",
       "    </tr>\n",
       "    <tr>\n",
       "      <th>4</th>\n",
       "      <td>63</td>\n",
       "      <td>49.37</td>\n",
       "      <td>63</td>\n",
       "      <td>1.22</td>\n",
       "      <td>3.3</td>\n",
       "      <td>328</td>\n",
       "      <td>0</td>\n",
       "      <td>20.0</td>\n",
       "      <td>947.821</td>\n",
       "      <td>6.4</td>\n",
       "      <td>...</td>\n",
       "      <td>-999.25</td>\n",
       "      <td>-999.25</td>\n",
       "      <td>-999.25</td>\n",
       "      <td>0</td>\n",
       "      <td>-999.25</td>\n",
       "      <td>0</td>\n",
       "      <td>-999.25</td>\n",
       "      <td>-999.25</td>\n",
       "      <td>7/7/2015</td>\n",
       "      <td>0:20:12</td>\n",
       "    </tr>\n",
       "  </tbody>\n",
       "</table>\n",
       "<p>5 rows × 106 columns</p>\n",
       "</div>"
      ],
      "text/plain": [
       "   Hole Depth  Rate Of Penetration  Bit Depth  Time Of Penetration  Hook Load  \\\n",
       "0          59                 4.86         59                12.34        5.5   \n",
       "1          60                16.17         60                 3.71        2.9   \n",
       "2          61                29.55         61                 2.03        4.6   \n",
       "3          62                38.89         62                 1.54        3.3   \n",
       "4          63                49.37         63                 1.22        3.3   \n",
       "\n",
       "   Standpipe Pressure  Mud G/L Alarm State  Rotary RPM  Rotary Torque  \\\n",
       "0                 235                    0        20.0       3417.290   \n",
       "1                 323                    0        20.0       1014.580   \n",
       "2                 327                    0        20.0       1056.120   \n",
       "3                 328                    0        20.0       1131.790   \n",
       "4                 328                    0        20.0        947.821   \n",
       "\n",
       "   Weight on Bit  ...  P2 Rate  PVT Mud Tanks Included  \\\n",
       "0            6.4  ...  -999.25                 -999.25   \n",
       "1            6.2  ...  -999.25                 -999.25   \n",
       "2            6.5  ...  -999.25                 -999.25   \n",
       "3            6.1  ...  -999.25                 -999.25   \n",
       "4            6.4  ...  -999.25                 -999.25   \n",
       "\n",
       "   PVT Monitor Mud Gain/Loss  PVT Mud G/L Threshold  \\\n",
       "0                    -999.25                      0   \n",
       "1                    -999.25                      0   \n",
       "2                    -999.25                      0   \n",
       "3                    -999.25                      0   \n",
       "4                    -999.25                      0   \n",
       "\n",
       "   Trip Tank 1 Refill Status  Flow 1 G/L Threshold  Trip Tank Fill  \\\n",
       "0                    -999.25                     0         -999.25   \n",
       "1                    -999.25                     0         -999.25   \n",
       "2                    -999.25                     0         -999.25   \n",
       "3                    -999.25                     0         -999.25   \n",
       "4                    -999.25                     0         -999.25   \n",
       "\n",
       "   Trip Tank Accum  YYYY/MM/DD  HH:MM:SS  \n",
       "0          -999.25    7/7/2015   0:18:18  \n",
       "1          -999.25    7/7/2015   0:18:47  \n",
       "2          -999.25    7/7/2015   0:19:23  \n",
       "3          -999.25    7/7/2015   0:19:47  \n",
       "4          -999.25    7/7/2015   0:20:12  \n",
       "\n",
       "[5 rows x 106 columns]"
      ]
     },
     "execution_count": 6,
     "metadata": {},
     "output_type": "execute_result"
    }
   ],
   "source": [
    "df.head()"
   ]
  },
  {
   "cell_type": "code",
   "execution_count": 57,
   "metadata": {},
   "outputs": [
    {
     "data": {
      "text/plain": [
       "(72687, 119)"
      ]
     },
     "execution_count": 57,
     "metadata": {},
     "output_type": "execute_result"
    }
   ],
   "source": [
    "df.shape"
   ]
  },
  {
   "cell_type": "markdown",
   "metadata": {},
   "source": [
    "### Target Feature Extraction\n",
    "Only key drilling mechanics parameters are retained: `Rate of Penetration (ROP)`, `On Bottom ROP`, `Rotary RPM`, `Torque`, `Weight on Bit`, and `depth` indicators. These parameters are central to evaluating drilling efficiency, bit-rock interaction, and energy transfer from surface to bit. This filtration step removes noise and dimensionality, optimizing the dataframe for focused time series modeling."
   ]
  },
  {
   "cell_type": "code",
   "execution_count": 58,
   "metadata": {},
   "outputs": [
    {
     "data": {
      "text/html": [
       "<div>\n",
       "<style scoped>\n",
       "    .dataframe tbody tr th:only-of-type {\n",
       "        vertical-align: middle;\n",
       "    }\n",
       "\n",
       "    .dataframe tbody tr th {\n",
       "        vertical-align: top;\n",
       "    }\n",
       "\n",
       "    .dataframe thead th {\n",
       "        text-align: right;\n",
       "    }\n",
       "</style>\n",
       "<table border=\"1\" class=\"dataframe\">\n",
       "  <thead>\n",
       "    <tr style=\"text-align: right;\">\n",
       "      <th></th>\n",
       "      <th>YYYY/MM/DD</th>\n",
       "      <th>HH:MM:SS</th>\n",
       "      <th>Rate Of Penetration</th>\n",
       "      <th>On Bottom ROP</th>\n",
       "      <th>Rotary RPM</th>\n",
       "      <th>Rotary Torque</th>\n",
       "      <th>Weight on Bit</th>\n",
       "      <th>Hole Depth</th>\n",
       "      <th>Bit Depth</th>\n",
       "      <th>Hook Load</th>\n",
       "      <th>Standpipe Pressure</th>\n",
       "    </tr>\n",
       "  </thead>\n",
       "  <tbody>\n",
       "    <tr>\n",
       "      <th>0</th>\n",
       "      <td>2015/07/06</td>\n",
       "      <td>06:27:50</td>\n",
       "      <td>-999.25</td>\n",
       "      <td>-999.25</td>\n",
       "      <td>-999.25</td>\n",
       "      <td>-999.25</td>\n",
       "      <td>0.0</td>\n",
       "      <td>6500.1</td>\n",
       "      <td>6497.4</td>\n",
       "      <td>-999.25</td>\n",
       "      <td>-999.25</td>\n",
       "    </tr>\n",
       "    <tr>\n",
       "      <th>1</th>\n",
       "      <td>2015/07/06</td>\n",
       "      <td>06:28:00</td>\n",
       "      <td>-999.25</td>\n",
       "      <td>-999.25</td>\n",
       "      <td>-999.25</td>\n",
       "      <td>-999.25</td>\n",
       "      <td>0.0</td>\n",
       "      <td>6500.1</td>\n",
       "      <td>6497.4</td>\n",
       "      <td>-999.25</td>\n",
       "      <td>-999.25</td>\n",
       "    </tr>\n",
       "    <tr>\n",
       "      <th>2</th>\n",
       "      <td>2015/07/06</td>\n",
       "      <td>06:28:10</td>\n",
       "      <td>-999.25</td>\n",
       "      <td>-999.25</td>\n",
       "      <td>-999.25</td>\n",
       "      <td>-999.25</td>\n",
       "      <td>0.0</td>\n",
       "      <td>6500.1</td>\n",
       "      <td>6497.4</td>\n",
       "      <td>-999.25</td>\n",
       "      <td>-999.25</td>\n",
       "    </tr>\n",
       "    <tr>\n",
       "      <th>3</th>\n",
       "      <td>2015/07/06</td>\n",
       "      <td>06:28:20</td>\n",
       "      <td>-999.25</td>\n",
       "      <td>-999.25</td>\n",
       "      <td>-999.25</td>\n",
       "      <td>-999.25</td>\n",
       "      <td>0.0</td>\n",
       "      <td>6500.1</td>\n",
       "      <td>6497.4</td>\n",
       "      <td>-999.25</td>\n",
       "      <td>-999.25</td>\n",
       "    </tr>\n",
       "    <tr>\n",
       "      <th>4</th>\n",
       "      <td>2015/07/06</td>\n",
       "      <td>06:28:30</td>\n",
       "      <td>-999.25</td>\n",
       "      <td>-999.25</td>\n",
       "      <td>-999.25</td>\n",
       "      <td>-999.25</td>\n",
       "      <td>0.0</td>\n",
       "      <td>6500.1</td>\n",
       "      <td>6497.4</td>\n",
       "      <td>-999.25</td>\n",
       "      <td>-999.25</td>\n",
       "    </tr>\n",
       "  </tbody>\n",
       "</table>\n",
       "</div>"
      ],
      "text/plain": [
       "   YYYY/MM/DD  HH:MM:SS  Rate Of Penetration  On Bottom ROP  Rotary RPM  \\\n",
       "0  2015/07/06  06:27:50              -999.25        -999.25     -999.25   \n",
       "1  2015/07/06  06:28:00              -999.25        -999.25     -999.25   \n",
       "2  2015/07/06  06:28:10              -999.25        -999.25     -999.25   \n",
       "3  2015/07/06  06:28:20              -999.25        -999.25     -999.25   \n",
       "4  2015/07/06  06:28:30              -999.25        -999.25     -999.25   \n",
       "\n",
       "   Rotary Torque  Weight on Bit  Hole Depth  Bit Depth  Hook Load  \\\n",
       "0        -999.25            0.0      6500.1     6497.4    -999.25   \n",
       "1        -999.25            0.0      6500.1     6497.4    -999.25   \n",
       "2        -999.25            0.0      6500.1     6497.4    -999.25   \n",
       "3        -999.25            0.0      6500.1     6497.4    -999.25   \n",
       "4        -999.25            0.0      6500.1     6497.4    -999.25   \n",
       "\n",
       "   Standpipe Pressure  \n",
       "0             -999.25  \n",
       "1             -999.25  \n",
       "2             -999.25  \n",
       "3             -999.25  \n",
       "4             -999.25  "
      ]
     },
     "execution_count": 58,
     "metadata": {},
     "output_type": "execute_result"
    }
   ],
   "source": [
    "df = df[['YYYY/MM/DD','HH:MM:SS', 'Rate Of Penetration','On Bottom ROP', 'Rotary RPM', 'Rotary Torque', 'Weight on Bit', 'Hole Depth','Bit Depth','Hook Load','Standpipe Pressure']]\n",
    "df.head()"
   ]
  },
  {
   "cell_type": "markdown",
   "metadata": {},
   "source": [
    "### Timestamp Construction\n",
    "Date and time columns are merged into a unified `timestamp` field using `pd.to_datetime`, enabling coherent temporal indexing. This is critical for any time series analysis or multivariate time-aligned visualizations and analytics that follow."
   ]
  },
  {
   "cell_type": "code",
   "execution_count": 59,
   "metadata": {},
   "outputs": [],
   "source": [
    "# Merge date and time columns into a timestamp column\n",
    "df['timestamp'] = pd.to_datetime(df['YYYY/MM/DD'] + ' ' + df['HH:MM:SS'])\n",
    "\n",
    "# Drop the original date and time columns if needed\n",
    "df.drop(['YYYY/MM/DD', 'HH:MM:SS'], axis=1, inplace=True)"
   ]
  },
  {
   "cell_type": "code",
   "execution_count": 60,
   "metadata": {},
   "outputs": [
    {
     "data": {
      "text/plain": [
       "0       2015-07-06 06:27:50\n",
       "1       2015-07-06 06:28:00\n",
       "2       2015-07-06 06:28:10\n",
       "3       2015-07-06 06:28:20\n",
       "4       2015-07-06 06:28:30\n",
       "                ...        \n",
       "72682   2015-07-15 01:17:20\n",
       "72683   2015-07-15 01:17:30\n",
       "72684   2015-07-15 01:17:40\n",
       "72685   2015-07-15 01:17:50\n",
       "72686   2015-07-15 01:18:00\n",
       "Name: timestamp, Length: 72687, dtype: datetime64[ns]"
      ]
     },
     "execution_count": 60,
     "metadata": {},
     "output_type": "execute_result"
    }
   ],
   "source": [
    "df['timestamp']"
   ]
  },
  {
   "cell_type": "code",
   "execution_count": 61,
   "metadata": {},
   "outputs": [
    {
     "data": {
      "text/html": [
       "<div>\n",
       "<style scoped>\n",
       "    .dataframe tbody tr th:only-of-type {\n",
       "        vertical-align: middle;\n",
       "    }\n",
       "\n",
       "    .dataframe tbody tr th {\n",
       "        vertical-align: top;\n",
       "    }\n",
       "\n",
       "    .dataframe thead th {\n",
       "        text-align: right;\n",
       "    }\n",
       "</style>\n",
       "<table border=\"1\" class=\"dataframe\">\n",
       "  <thead>\n",
       "    <tr style=\"text-align: right;\">\n",
       "      <th></th>\n",
       "      <th>Rate Of Penetration</th>\n",
       "      <th>On Bottom ROP</th>\n",
       "      <th>Rotary RPM</th>\n",
       "      <th>Rotary Torque</th>\n",
       "      <th>Weight on Bit</th>\n",
       "      <th>Hole Depth</th>\n",
       "      <th>Bit Depth</th>\n",
       "      <th>Hook Load</th>\n",
       "      <th>Standpipe Pressure</th>\n",
       "      <th>timestamp</th>\n",
       "    </tr>\n",
       "  </thead>\n",
       "  <tbody>\n",
       "    <tr>\n",
       "      <th>0</th>\n",
       "      <td>-999.25</td>\n",
       "      <td>-999.25</td>\n",
       "      <td>-999.25</td>\n",
       "      <td>-999.25</td>\n",
       "      <td>0.0</td>\n",
       "      <td>6500.1</td>\n",
       "      <td>6497.4</td>\n",
       "      <td>-999.25</td>\n",
       "      <td>-999.25</td>\n",
       "      <td>2015-07-06 06:27:50</td>\n",
       "    </tr>\n",
       "    <tr>\n",
       "      <th>1</th>\n",
       "      <td>-999.25</td>\n",
       "      <td>-999.25</td>\n",
       "      <td>-999.25</td>\n",
       "      <td>-999.25</td>\n",
       "      <td>0.0</td>\n",
       "      <td>6500.1</td>\n",
       "      <td>6497.4</td>\n",
       "      <td>-999.25</td>\n",
       "      <td>-999.25</td>\n",
       "      <td>2015-07-06 06:28:00</td>\n",
       "    </tr>\n",
       "    <tr>\n",
       "      <th>2</th>\n",
       "      <td>-999.25</td>\n",
       "      <td>-999.25</td>\n",
       "      <td>-999.25</td>\n",
       "      <td>-999.25</td>\n",
       "      <td>0.0</td>\n",
       "      <td>6500.1</td>\n",
       "      <td>6497.4</td>\n",
       "      <td>-999.25</td>\n",
       "      <td>-999.25</td>\n",
       "      <td>2015-07-06 06:28:10</td>\n",
       "    </tr>\n",
       "    <tr>\n",
       "      <th>3</th>\n",
       "      <td>-999.25</td>\n",
       "      <td>-999.25</td>\n",
       "      <td>-999.25</td>\n",
       "      <td>-999.25</td>\n",
       "      <td>0.0</td>\n",
       "      <td>6500.1</td>\n",
       "      <td>6497.4</td>\n",
       "      <td>-999.25</td>\n",
       "      <td>-999.25</td>\n",
       "      <td>2015-07-06 06:28:20</td>\n",
       "    </tr>\n",
       "    <tr>\n",
       "      <th>4</th>\n",
       "      <td>-999.25</td>\n",
       "      <td>-999.25</td>\n",
       "      <td>-999.25</td>\n",
       "      <td>-999.25</td>\n",
       "      <td>0.0</td>\n",
       "      <td>6500.1</td>\n",
       "      <td>6497.4</td>\n",
       "      <td>-999.25</td>\n",
       "      <td>-999.25</td>\n",
       "      <td>2015-07-06 06:28:30</td>\n",
       "    </tr>\n",
       "  </tbody>\n",
       "</table>\n",
       "</div>"
      ],
      "text/plain": [
       "   Rate Of Penetration  On Bottom ROP  Rotary RPM  Rotary Torque  \\\n",
       "0              -999.25        -999.25     -999.25        -999.25   \n",
       "1              -999.25        -999.25     -999.25        -999.25   \n",
       "2              -999.25        -999.25     -999.25        -999.25   \n",
       "3              -999.25        -999.25     -999.25        -999.25   \n",
       "4              -999.25        -999.25     -999.25        -999.25   \n",
       "\n",
       "   Weight on Bit  Hole Depth  Bit Depth  Hook Load  Standpipe Pressure  \\\n",
       "0            0.0      6500.1     6497.4    -999.25             -999.25   \n",
       "1            0.0      6500.1     6497.4    -999.25             -999.25   \n",
       "2            0.0      6500.1     6497.4    -999.25             -999.25   \n",
       "3            0.0      6500.1     6497.4    -999.25             -999.25   \n",
       "4            0.0      6500.1     6497.4    -999.25             -999.25   \n",
       "\n",
       "            timestamp  \n",
       "0 2015-07-06 06:27:50  \n",
       "1 2015-07-06 06:28:00  \n",
       "2 2015-07-06 06:28:10  \n",
       "3 2015-07-06 06:28:20  \n",
       "4 2015-07-06 06:28:30  "
      ]
     },
     "execution_count": 61,
     "metadata": {},
     "output_type": "execute_result"
    }
   ],
   "source": [
    "df.head()"
   ]
  },
  {
   "cell_type": "markdown",
   "metadata": {},
   "source": [
    "### Data Cleansing - Invalid Values\n",
    "Recognizing the presence of invalid placeholder values (`-999.25`), the notebook performs filtering to exclude non-physical or default error entries in `On Bottom ROP`. This ensures fidelity in downstream statistical insights and prevents contamination of regression or plotting operations."
   ]
  },
  {
   "cell_type": "code",
   "execution_count": 62,
   "metadata": {},
   "outputs": [
    {
     "data": {
      "text/plain": [
       "Rate Of Penetration\n",
       " 0.00      54914\n",
       "-999.25     1106\n",
       " 1.15          8\n",
       " 3.06          8\n",
       " 3.46          8\n",
       "           ...  \n",
       " 157.46        1\n",
       " 145.80        1\n",
       " 132.37        1\n",
       " 118.25        1\n",
       " 200.75        1\n",
       "Name: count, Length: 11741, dtype: int64"
      ]
     },
     "execution_count": 62,
     "metadata": {},
     "output_type": "execute_result"
    }
   ],
   "source": [
    "df['Rate Of Penetration'].value_counts()"
   ]
  },
  {
   "cell_type": "code",
   "execution_count": 63,
   "metadata": {},
   "outputs": [],
   "source": [
    "#df1['On Bottom ROP'].value_counts().sum() - df1['On Bottom ROP'].value_counts()[0]"
   ]
  },
  {
   "cell_type": "code",
   "execution_count": 64,
   "metadata": {},
   "outputs": [
    {
     "data": {
      "text/plain": [
       "On Bottom ROP\n",
       "3.46      8\n",
       "3.06      8\n",
       "1.15      8\n",
       "76.09     7\n",
       "73.73     7\n",
       "         ..\n",
       "85.15     1\n",
       "76.26     1\n",
       "70.52     1\n",
       "67.30     1\n",
       "200.75    1\n",
       "Name: count, Length: 11739, dtype: int64"
      ]
     },
     "execution_count": 64,
     "metadata": {},
     "output_type": "execute_result"
    }
   ],
   "source": [
    "df = df[(df['On Bottom ROP'] != -999.25)&(df['On Bottom ROP'] != 0)]\n",
    "df['On Bottom ROP'].value_counts()"
   ]
  },
  {
   "cell_type": "markdown",
   "metadata": {},
   "source": [
    "### Descriptive Statistics\n",
    "Statistical descriptors of core parameters (ROP, WOB, Torque, RPM, Depth) are extracted. This provides engineers a summary profile of the drilling phase behavior — identifying operational bounds, variability, and extreme outliers (e.g., RPM reaching 4927 — potentially a sensor anomaly or off-bottom spinning). Such metrics guide parameter normalization and sanity checks."
   ]
  },
  {
   "cell_type": "code",
   "execution_count": 65,
   "metadata": {},
   "outputs": [
    {
     "data": {
      "text/html": [
       "<div>\n",
       "<style scoped>\n",
       "    .dataframe tbody tr th:only-of-type {\n",
       "        vertical-align: middle;\n",
       "    }\n",
       "\n",
       "    .dataframe tbody tr th {\n",
       "        vertical-align: top;\n",
       "    }\n",
       "\n",
       "    .dataframe thead th {\n",
       "        text-align: right;\n",
       "    }\n",
       "</style>\n",
       "<table border=\"1\" class=\"dataframe\">\n",
       "  <thead>\n",
       "    <tr style=\"text-align: right;\">\n",
       "      <th></th>\n",
       "      <th>Rate Of Penetration</th>\n",
       "      <th>On Bottom ROP</th>\n",
       "      <th>Rotary RPM</th>\n",
       "      <th>Rotary Torque</th>\n",
       "      <th>Weight on Bit</th>\n",
       "      <th>Hole Depth</th>\n",
       "      <th>Bit Depth</th>\n",
       "      <th>Hook Load</th>\n",
       "      <th>Standpipe Pressure</th>\n",
       "      <th>timestamp</th>\n",
       "    </tr>\n",
       "  </thead>\n",
       "  <tbody>\n",
       "    <tr>\n",
       "      <th>count</th>\n",
       "      <td>16667.000000</td>\n",
       "      <td>16667.000000</td>\n",
       "      <td>16667.000000</td>\n",
       "      <td>16667.000000</td>\n",
       "      <td>16667.000000</td>\n",
       "      <td>16667.000000</td>\n",
       "      <td>16667.000000</td>\n",
       "      <td>16667.000000</td>\n",
       "      <td>16667.000000</td>\n",
       "      <td>16667</td>\n",
       "    </tr>\n",
       "    <tr>\n",
       "      <th>mean</th>\n",
       "      <td>110.955027</td>\n",
       "      <td>110.955027</td>\n",
       "      <td>67.735540</td>\n",
       "      <td>1850.497646</td>\n",
       "      <td>4.971201</td>\n",
       "      <td>2780.637661</td>\n",
       "      <td>2780.636893</td>\n",
       "      <td>52.670661</td>\n",
       "      <td>483.237475</td>\n",
       "      <td>2015-07-11 10:03:01.111177984</td>\n",
       "    </tr>\n",
       "    <tr>\n",
       "      <th>min</th>\n",
       "      <td>0.020000</td>\n",
       "      <td>0.020000</td>\n",
       "      <td>-999.250000</td>\n",
       "      <td>325.446000</td>\n",
       "      <td>0.000000</td>\n",
       "      <td>58.700000</td>\n",
       "      <td>58.700000</td>\n",
       "      <td>2.700000</td>\n",
       "      <td>138.000000</td>\n",
       "      <td>2015-07-06 22:50:20</td>\n",
       "    </tr>\n",
       "    <tr>\n",
       "      <th>25%</th>\n",
       "      <td>47.050000</td>\n",
       "      <td>47.050000</td>\n",
       "      <td>36.000000</td>\n",
       "      <td>1366.940000</td>\n",
       "      <td>3.400000</td>\n",
       "      <td>1119.450000</td>\n",
       "      <td>1119.450000</td>\n",
       "      <td>30.300000</td>\n",
       "      <td>447.000000</td>\n",
       "      <td>2015-07-09 15:50:45</td>\n",
       "    </tr>\n",
       "    <tr>\n",
       "      <th>50%</th>\n",
       "      <td>86.760000</td>\n",
       "      <td>86.760000</td>\n",
       "      <td>40.000000</td>\n",
       "      <td>1611.000000</td>\n",
       "      <td>4.900000</td>\n",
       "      <td>2015.200000</td>\n",
       "      <td>2015.200000</td>\n",
       "      <td>42.400000</td>\n",
       "      <td>497.000000</td>\n",
       "      <td>2015-07-12 14:27:50</td>\n",
       "    </tr>\n",
       "    <tr>\n",
       "      <th>75%</th>\n",
       "      <td>185.055000</td>\n",
       "      <td>185.055000</td>\n",
       "      <td>43.000000</td>\n",
       "      <td>2019.730000</td>\n",
       "      <td>6.600000</td>\n",
       "      <td>4553.200000</td>\n",
       "      <td>4553.200000</td>\n",
       "      <td>76.200000</td>\n",
       "      <td>527.000000</td>\n",
       "      <td>2015-07-13 11:48:05</td>\n",
       "    </tr>\n",
       "    <tr>\n",
       "      <th>max</th>\n",
       "      <td>345.230000</td>\n",
       "      <td>345.230000</td>\n",
       "      <td>4927.000000</td>\n",
       "      <td>6077.410000</td>\n",
       "      <td>14.700000</td>\n",
       "      <td>6923.500000</td>\n",
       "      <td>6923.500000</td>\n",
       "      <td>118.600000</td>\n",
       "      <td>571.000000</td>\n",
       "      <td>2015-07-14 10:11:50</td>\n",
       "    </tr>\n",
       "    <tr>\n",
       "      <th>std</th>\n",
       "      <td>80.661825</td>\n",
       "      <td>80.661825</td>\n",
       "      <td>348.275669</td>\n",
       "      <td>869.377308</td>\n",
       "      <td>1.880364</td>\n",
       "      <td>2037.412177</td>\n",
       "      <td>2037.412263</td>\n",
       "      <td>27.599553</td>\n",
       "      <td>54.647223</td>\n",
       "      <td>NaN</td>\n",
       "    </tr>\n",
       "  </tbody>\n",
       "</table>\n",
       "</div>"
      ],
      "text/plain": [
       "       Rate Of Penetration  On Bottom ROP    Rotary RPM  Rotary Torque  \\\n",
       "count         16667.000000   16667.000000  16667.000000   16667.000000   \n",
       "mean            110.955027     110.955027     67.735540    1850.497646   \n",
       "min               0.020000       0.020000   -999.250000     325.446000   \n",
       "25%              47.050000      47.050000     36.000000    1366.940000   \n",
       "50%              86.760000      86.760000     40.000000    1611.000000   \n",
       "75%             185.055000     185.055000     43.000000    2019.730000   \n",
       "max             345.230000     345.230000   4927.000000    6077.410000   \n",
       "std              80.661825      80.661825    348.275669     869.377308   \n",
       "\n",
       "       Weight on Bit    Hole Depth     Bit Depth     Hook Load  \\\n",
       "count   16667.000000  16667.000000  16667.000000  16667.000000   \n",
       "mean        4.971201   2780.637661   2780.636893     52.670661   \n",
       "min         0.000000     58.700000     58.700000      2.700000   \n",
       "25%         3.400000   1119.450000   1119.450000     30.300000   \n",
       "50%         4.900000   2015.200000   2015.200000     42.400000   \n",
       "75%         6.600000   4553.200000   4553.200000     76.200000   \n",
       "max        14.700000   6923.500000   6923.500000    118.600000   \n",
       "std         1.880364   2037.412177   2037.412263     27.599553   \n",
       "\n",
       "       Standpipe Pressure                      timestamp  \n",
       "count        16667.000000                          16667  \n",
       "mean           483.237475  2015-07-11 10:03:01.111177984  \n",
       "min            138.000000            2015-07-06 22:50:20  \n",
       "25%            447.000000            2015-07-09 15:50:45  \n",
       "50%            497.000000            2015-07-12 14:27:50  \n",
       "75%            527.000000            2015-07-13 11:48:05  \n",
       "max            571.000000            2015-07-14 10:11:50  \n",
       "std             54.647223                            NaN  "
      ]
     },
     "execution_count": 65,
     "metadata": {},
     "output_type": "execute_result"
    }
   ],
   "source": [
    "df.describe()"
   ]
  },
  {
   "cell_type": "markdown",
   "metadata": {},
   "source": [
    "### Additional Cleaning — Rotary RPM\n",
    "A focused data purge removes anomalous entries for `Rotary RPM`, affirming the notebook’s commitment to preserving high-signal, low-noise analytical integrity. This is particularly crucial for rotating systems, where incorrect values can skew vibration, efficiency, or whirl interpretation."
   ]
  },
  {
   "cell_type": "code",
   "execution_count": 66,
   "metadata": {},
   "outputs": [
    {
     "data": {
      "text/plain": [
       "Rotary RPM\n",
       "False    16588\n",
       "True        79\n",
       "Name: count, dtype: int64"
      ]
     },
     "execution_count": 66,
     "metadata": {},
     "output_type": "execute_result"
    }
   ],
   "source": [
    "(df['Rotary RPM'] == -999.25).value_counts()"
   ]
  },
  {
   "cell_type": "code",
   "execution_count": 67,
   "metadata": {},
   "outputs": [
    {
     "data": {
      "text/plain": [
       "Rotary RPM\n",
       "False    16588\n",
       "Name: count, dtype: int64"
      ]
     },
     "execution_count": 67,
     "metadata": {},
     "output_type": "execute_result"
    }
   ],
   "source": [
    "df = df[df['Rotary RPM'] != -999.25]\n",
    "(df['Rotary RPM'] == -999.25).value_counts()"
   ]
  },
  {
   "cell_type": "code",
   "execution_count": 68,
   "metadata": {},
   "outputs": [],
   "source": [
    "# df1.index = df1['timestamp']\n",
    "# df1.head()"
   ]
  },
  {
   "cell_type": "markdown",
   "metadata": {},
   "source": [
    "### Multi-Parameter Melting for Visualization\n",
    "The dataframe is transformed via `pd.melt()` into a long-format structure conducive for panel plots. By unpivoting the wide table into a tidy format, this cell facilitates multi-parameter time series plotting, where each physical parameter can be cleanly plotted in a faceted subplot — ideal for parallel drilling parameter diagnostics."
   ]
  },
  {
   "cell_type": "code",
   "execution_count": null,
   "metadata": {},
   "outputs": [
    {
     "name": "stdout",
     "output_type": "stream",
     "text": [
      "                timestamp      Parameter  Values\n",
      "0     2015-07-06 22:50:20  On Bottom ROP    9.78\n",
      "1     2015-07-06 22:50:30  On Bottom ROP   11.96\n",
      "2     2015-07-07 00:18:20  On Bottom ROP    5.68\n",
      "3     2015-07-07 00:18:30  On Bottom ROP    9.86\n",
      "4     2015-07-07 00:18:40  On Bottom ROP   13.31\n",
      "...                   ...            ...     ...\n",
      "66347 2015-07-14 10:11:10  Weight on Bit    1.50\n",
      "66348 2015-07-14 10:11:20  Weight on Bit    1.40\n",
      "66349 2015-07-14 10:11:30  Weight on Bit    1.50\n",
      "66350 2015-07-14 10:11:40  Weight on Bit    1.50\n",
      "66351 2015-07-14 10:11:50  Weight on Bit    1.60\n",
      "\n",
      "[66352 rows x 3 columns]\n"
     ]
    }
   ],
   "source": [
    "# Define the columns to keep ('timestamp' and the numeric columns)\n",
    "columns_to_keep = ['timestamp', 'On Bottom ROP', 'Rotary Torque', 'Rotary RPM', 'Weight on Bit']\n",
    "\n",
    "# Melt the DataFrame to create the desired format\n",
    "melted_df = pd.melt(df, id_vars=['timestamp'], value_vars=columns_to_keep,\n",
    "                     var_name='Parameter', value_name='Values')\n",
    "\n",
    "# Display the resulting DataFrame\n",
    "print(melted_df)\n"
   ]
  },
  {
   "cell_type": "markdown",
   "metadata": {},
   "source": [
    "A brief preview validates that the melt operation has succeeded in creating a scalable and aesthetically clean table, setting the stage for multi-panel plotting"
   ]
  },
  {
   "cell_type": "code",
   "execution_count": 70,
   "metadata": {},
   "outputs": [
    {
     "data": {
      "text/html": [
       "<div>\n",
       "<style scoped>\n",
       "    .dataframe tbody tr th:only-of-type {\n",
       "        vertical-align: middle;\n",
       "    }\n",
       "\n",
       "    .dataframe tbody tr th {\n",
       "        vertical-align: top;\n",
       "    }\n",
       "\n",
       "    .dataframe thead th {\n",
       "        text-align: right;\n",
       "    }\n",
       "</style>\n",
       "<table border=\"1\" class=\"dataframe\">\n",
       "  <thead>\n",
       "    <tr style=\"text-align: right;\">\n",
       "      <th></th>\n",
       "      <th>timestamp</th>\n",
       "      <th>Parameter</th>\n",
       "      <th>Values</th>\n",
       "    </tr>\n",
       "  </thead>\n",
       "  <tbody>\n",
       "    <tr>\n",
       "      <th>0</th>\n",
       "      <td>2015-07-06 22:50:20</td>\n",
       "      <td>On Bottom ROP</td>\n",
       "      <td>9.78</td>\n",
       "    </tr>\n",
       "    <tr>\n",
       "      <th>1</th>\n",
       "      <td>2015-07-06 22:50:30</td>\n",
       "      <td>On Bottom ROP</td>\n",
       "      <td>11.96</td>\n",
       "    </tr>\n",
       "    <tr>\n",
       "      <th>2</th>\n",
       "      <td>2015-07-07 00:18:20</td>\n",
       "      <td>On Bottom ROP</td>\n",
       "      <td>5.68</td>\n",
       "    </tr>\n",
       "    <tr>\n",
       "      <th>3</th>\n",
       "      <td>2015-07-07 00:18:30</td>\n",
       "      <td>On Bottom ROP</td>\n",
       "      <td>9.86</td>\n",
       "    </tr>\n",
       "    <tr>\n",
       "      <th>4</th>\n",
       "      <td>2015-07-07 00:18:40</td>\n",
       "      <td>On Bottom ROP</td>\n",
       "      <td>13.31</td>\n",
       "    </tr>\n",
       "  </tbody>\n",
       "</table>\n",
       "</div>"
      ],
      "text/plain": [
       "            timestamp      Parameter  Values\n",
       "0 2015-07-06 22:50:20  On Bottom ROP    9.78\n",
       "1 2015-07-06 22:50:30  On Bottom ROP   11.96\n",
       "2 2015-07-07 00:18:20  On Bottom ROP    5.68\n",
       "3 2015-07-07 00:18:30  On Bottom ROP    9.86\n",
       "4 2015-07-07 00:18:40  On Bottom ROP   13.31"
      ]
     },
     "execution_count": 70,
     "metadata": {},
     "output_type": "execute_result"
    }
   ],
   "source": [
    "melted_df.head()"
   ]
  },
  {
   "cell_type": "code",
   "execution_count": 71,
   "metadata": {},
   "outputs": [
    {
     "data": {
      "text/html": [
       "<div>\n",
       "<style scoped>\n",
       "    .dataframe tbody tr th:only-of-type {\n",
       "        vertical-align: middle;\n",
       "    }\n",
       "\n",
       "    .dataframe tbody tr th {\n",
       "        vertical-align: top;\n",
       "    }\n",
       "\n",
       "    .dataframe thead th {\n",
       "        text-align: right;\n",
       "    }\n",
       "</style>\n",
       "<table border=\"1\" class=\"dataframe\">\n",
       "  <thead>\n",
       "    <tr style=\"text-align: right;\">\n",
       "      <th></th>\n",
       "      <th>Rate Of Penetration</th>\n",
       "      <th>On Bottom ROP</th>\n",
       "      <th>Rotary RPM</th>\n",
       "      <th>Rotary Torque</th>\n",
       "      <th>Weight on Bit</th>\n",
       "      <th>Hole Depth</th>\n",
       "      <th>Bit Depth</th>\n",
       "      <th>Hook Load</th>\n",
       "      <th>Standpipe Pressure</th>\n",
       "      <th>timestamp</th>\n",
       "    </tr>\n",
       "  </thead>\n",
       "  <tbody>\n",
       "    <tr>\n",
       "      <th>3889</th>\n",
       "      <td>9.78</td>\n",
       "      <td>9.78</td>\n",
       "      <td>14.0</td>\n",
       "      <td>1938.870</td>\n",
       "      <td>5.1</td>\n",
       "      <td>58.7</td>\n",
       "      <td>58.7</td>\n",
       "      <td>15.7</td>\n",
       "      <td>138.0</td>\n",
       "      <td>2015-07-06 22:50:20</td>\n",
       "    </tr>\n",
       "    <tr>\n",
       "      <th>3890</th>\n",
       "      <td>11.96</td>\n",
       "      <td>11.96</td>\n",
       "      <td>4070.0</td>\n",
       "      <td>662.968</td>\n",
       "      <td>5.3</td>\n",
       "      <td>58.8</td>\n",
       "      <td>58.7</td>\n",
       "      <td>13.5</td>\n",
       "      <td>169.0</td>\n",
       "      <td>2015-07-06 22:50:30</td>\n",
       "    </tr>\n",
       "    <tr>\n",
       "      <th>4417</th>\n",
       "      <td>5.68</td>\n",
       "      <td>5.68</td>\n",
       "      <td>20.0</td>\n",
       "      <td>1928.490</td>\n",
       "      <td>6.1</td>\n",
       "      <td>59.1</td>\n",
       "      <td>59.1</td>\n",
       "      <td>5.5</td>\n",
       "      <td>250.0</td>\n",
       "      <td>2015-07-07 00:18:20</td>\n",
       "    </tr>\n",
       "    <tr>\n",
       "      <th>4418</th>\n",
       "      <td>9.86</td>\n",
       "      <td>9.86</td>\n",
       "      <td>20.0</td>\n",
       "      <td>1014.580</td>\n",
       "      <td>6.2</td>\n",
       "      <td>59.6</td>\n",
       "      <td>59.6</td>\n",
       "      <td>2.9</td>\n",
       "      <td>299.0</td>\n",
       "      <td>2015-07-07 00:18:30</td>\n",
       "    </tr>\n",
       "    <tr>\n",
       "      <th>4419</th>\n",
       "      <td>13.31</td>\n",
       "      <td>13.31</td>\n",
       "      <td>20.0</td>\n",
       "      <td>845.452</td>\n",
       "      <td>6.1</td>\n",
       "      <td>59.7</td>\n",
       "      <td>59.7</td>\n",
       "      <td>2.7</td>\n",
       "      <td>318.0</td>\n",
       "      <td>2015-07-07 00:18:40</td>\n",
       "    </tr>\n",
       "  </tbody>\n",
       "</table>\n",
       "</div>"
      ],
      "text/plain": [
       "      Rate Of Penetration  On Bottom ROP  Rotary RPM  Rotary Torque  \\\n",
       "3889                 9.78           9.78        14.0       1938.870   \n",
       "3890                11.96          11.96      4070.0        662.968   \n",
       "4417                 5.68           5.68        20.0       1928.490   \n",
       "4418                 9.86           9.86        20.0       1014.580   \n",
       "4419                13.31          13.31        20.0        845.452   \n",
       "\n",
       "      Weight on Bit  Hole Depth  Bit Depth  Hook Load  Standpipe Pressure  \\\n",
       "3889            5.1        58.7       58.7       15.7               138.0   \n",
       "3890            5.3        58.8       58.7       13.5               169.0   \n",
       "4417            6.1        59.1       59.1        5.5               250.0   \n",
       "4418            6.2        59.6       59.6        2.9               299.0   \n",
       "4419            6.1        59.7       59.7        2.7               318.0   \n",
       "\n",
       "               timestamp  \n",
       "3889 2015-07-06 22:50:20  \n",
       "3890 2015-07-06 22:50:30  \n",
       "4417 2015-07-07 00:18:20  \n",
       "4418 2015-07-07 00:18:30  \n",
       "4419 2015-07-07 00:18:40  "
      ]
     },
     "execution_count": 71,
     "metadata": {},
     "output_type": "execute_result"
    }
   ],
   "source": [
    "df.head()"
   ]
  },
  {
   "cell_type": "code",
   "execution_count": 72,
   "metadata": {},
   "outputs": [],
   "source": [
    "# df1.index = df1['timestamp']\n",
    "# df1.loc['2015-07-13 00:00:00':'2015-08-13 00:08:00'].head()\n"
   ]
  },
  {
   "cell_type": "markdown",
   "metadata": {},
   "source": [
    "### Localized Time Window Subsetting\n",
    "A precise time slice (`2015-07-13 00:04:00` to `00:18:00`) is extracted for focused temporal analysis."
   ]
  },
  {
   "cell_type": "code",
   "execution_count": null,
   "metadata": {},
   "outputs": [],
   "source": [
    "df1 = df.copy()\n",
    "df1.index = df1['timestamp']\n",
    "df1 = df1.loc['2015-07-13 00:04:00':'2015-07-13 00:18:00']"
   ]
  },
  {
   "cell_type": "markdown",
   "metadata": {},
   "source": [
    "### Static Time Series Plot\n",
    "A 4-panel matplotlib figure plots `On Bottom ROP`, `Weight on Bit`, `Rotary Torque`, and `Standpipe Pressure`, offering a compact view of drilling system behavior. The subplot structure captures interdependencies — e.g., observing torque fluctuations alongside WOB or pressure drops — essential for mechanical diagnosis and drilling dysfunction detection."
   ]
  },
  {
   "cell_type": "code",
   "execution_count": null,
   "metadata": {
    "scrolled": true
   },
   "outputs": [
    {
     "data": {
      "image/png": "[encoded data removed]",
      "text/plain": [
       "<Figure size 1200x600 with 4 Axes>"
      ]
     },
     "metadata": {},
     "output_type": "display_data"
    }
   ],
   "source": [
    "\n",
    "\n",
    "# Create figure and axis object\n",
    "fig, ax = plt.subplots(nrows=4, ncols=1, figsize=(12,6), sharex=True, gridspec_kw={'hspace': 0.1})\n",
    "\n",
    "# Plot each panel\n",
    "ax[0].plot(df1['timestamp'], df1['On Bottom ROP'], color='blue', linewidth=2, label='ROP')\n",
    "ax[1].plot(df1['timestamp'], df1['Weight on Bit'], color='green', linewidth=2, label='WOB')\n",
    "ax[2].plot(df1['timestamp'], df1['Rotary Torque'], color='red', linewidth=2, label='TORQUE')\n",
    "ax[3].plot(df1['timestamp'], df1['Standpipe Pressure'], color='purple', linewidth=2, label='SPP')\n",
    "\n",
    "# Add titles and labels\n",
    "plt.suptitle('Drilling Parameters over Time')\n",
    "# ax[0].set_title('Rate of Penetration')\n",
    "# ax[1].set_title('Weight on Bit')\n",
    "# ax[2].set_title('Torque')\n",
    "# ax[3].set_title('Stand Pipe Pressure')\n",
    "\n",
    "ax[0].set_ylabel('ROP (m/h)')\n",
    "ax[1].set_ylabel('WOB (kN)')\n",
    "ax[2].set_ylabel('TORQUE (kNm)')\n",
    "ax[3].set_ylabel('SPP')\n",
    "ax[3].set_xlabel('timestamp')\n",
    "\n",
    "# Add legends\n",
    "ax[0].legend(loc='upper left')\n",
    "ax[1].legend(loc='upper left')\n",
    "ax[2].legend(loc='upper left')\n",
    "ax[3].legend(loc='upper left')\n",
    "\n",
    "#ax[3].set_xticks(df1['timestamp'].iloc[::len(df1) // 4])\n",
    "\n",
    "# Adjust spacing and layout\n",
    "plt.tight_layout()\n",
    "plt.subplots_adjust(top=0.9)\n",
    "\n",
    "# Show or save plot\n",
    "plt.show()\n",
    "# plt.savefig('drilling_plot.png')\n"
   ]
  },
  {
   "cell_type": "code",
   "execution_count": 75,
   "metadata": {},
   "outputs": [],
   "source": [
    "df1 = df.copy()"
   ]
  },
  {
   "cell_type": "code",
   "execution_count": null,
   "metadata": {},
   "outputs": [],
   "source": [
    "\n",
    "# df1.index = df1['timestamp']\n",
    "# # Assuming df is your DataFrame with a timestamp index\n",
    "\n",
    "\n",
    "# # Convert the timestamp strings to datetime objects\n",
    "# df1.index = pd.to_datetime(df1.index)\n",
    "# # Verify the data types of the index\n",
    "# print(df1.index)\n",
    "\n",
    "# # Create a new column with the time difference\n",
    "# df1['TimeDiff'] = df1.apply(lambda row: row.index[n] - row.index[0], axis=1)\n",
    "\n",
    "# # Print the DataFrame with the new column\n",
    "# print(df1.head())\n"
   ]
  },
  {
   "cell_type": "markdown",
   "metadata": {},
   "source": [
    "A clean copy of the main dataframe (`df2`) is created for later use, preserving raw integrity while enabling parallel analytical tracks. This also marks a logical preparation step before interactive plot construction."
   ]
  },
  {
   "cell_type": "code",
   "execution_count": 77,
   "metadata": {},
   "outputs": [
    {
     "data": {
      "text/html": [
       "<div>\n",
       "<style scoped>\n",
       "    .dataframe tbody tr th:only-of-type {\n",
       "        vertical-align: middle;\n",
       "    }\n",
       "\n",
       "    .dataframe tbody tr th {\n",
       "        vertical-align: top;\n",
       "    }\n",
       "\n",
       "    .dataframe thead th {\n",
       "        text-align: right;\n",
       "    }\n",
       "</style>\n",
       "<table border=\"1\" class=\"dataframe\">\n",
       "  <thead>\n",
       "    <tr style=\"text-align: right;\">\n",
       "      <th></th>\n",
       "      <th>Rate Of Penetration</th>\n",
       "      <th>On Bottom ROP</th>\n",
       "      <th>Rotary RPM</th>\n",
       "      <th>Rotary Torque</th>\n",
       "      <th>Weight on Bit</th>\n",
       "      <th>Hole Depth</th>\n",
       "      <th>Bit Depth</th>\n",
       "      <th>Hook Load</th>\n",
       "      <th>Standpipe Pressure</th>\n",
       "      <th>timestamp</th>\n",
       "    </tr>\n",
       "  </thead>\n",
       "  <tbody>\n",
       "    <tr>\n",
       "      <th>3889</th>\n",
       "      <td>9.78</td>\n",
       "      <td>9.78</td>\n",
       "      <td>14.0</td>\n",
       "      <td>1938.870</td>\n",
       "      <td>5.1</td>\n",
       "      <td>58.7</td>\n",
       "      <td>58.7</td>\n",
       "      <td>15.7</td>\n",
       "      <td>138.0</td>\n",
       "      <td>2015-07-06 22:50:20</td>\n",
       "    </tr>\n",
       "    <tr>\n",
       "      <th>3890</th>\n",
       "      <td>11.96</td>\n",
       "      <td>11.96</td>\n",
       "      <td>4070.0</td>\n",
       "      <td>662.968</td>\n",
       "      <td>5.3</td>\n",
       "      <td>58.8</td>\n",
       "      <td>58.7</td>\n",
       "      <td>13.5</td>\n",
       "      <td>169.0</td>\n",
       "      <td>2015-07-06 22:50:30</td>\n",
       "    </tr>\n",
       "    <tr>\n",
       "      <th>4417</th>\n",
       "      <td>5.68</td>\n",
       "      <td>5.68</td>\n",
       "      <td>20.0</td>\n",
       "      <td>1928.490</td>\n",
       "      <td>6.1</td>\n",
       "      <td>59.1</td>\n",
       "      <td>59.1</td>\n",
       "      <td>5.5</td>\n",
       "      <td>250.0</td>\n",
       "      <td>2015-07-07 00:18:20</td>\n",
       "    </tr>\n",
       "    <tr>\n",
       "      <th>4418</th>\n",
       "      <td>9.86</td>\n",
       "      <td>9.86</td>\n",
       "      <td>20.0</td>\n",
       "      <td>1014.580</td>\n",
       "      <td>6.2</td>\n",
       "      <td>59.6</td>\n",
       "      <td>59.6</td>\n",
       "      <td>2.9</td>\n",
       "      <td>299.0</td>\n",
       "      <td>2015-07-07 00:18:30</td>\n",
       "    </tr>\n",
       "    <tr>\n",
       "      <th>4419</th>\n",
       "      <td>13.31</td>\n",
       "      <td>13.31</td>\n",
       "      <td>20.0</td>\n",
       "      <td>845.452</td>\n",
       "      <td>6.1</td>\n",
       "      <td>59.7</td>\n",
       "      <td>59.7</td>\n",
       "      <td>2.7</td>\n",
       "      <td>318.0</td>\n",
       "      <td>2015-07-07 00:18:40</td>\n",
       "    </tr>\n",
       "  </tbody>\n",
       "</table>\n",
       "</div>"
      ],
      "text/plain": [
       "      Rate Of Penetration  On Bottom ROP  Rotary RPM  Rotary Torque  \\\n",
       "3889                 9.78           9.78        14.0       1938.870   \n",
       "3890                11.96          11.96      4070.0        662.968   \n",
       "4417                 5.68           5.68        20.0       1928.490   \n",
       "4418                 9.86           9.86        20.0       1014.580   \n",
       "4419                13.31          13.31        20.0        845.452   \n",
       "\n",
       "      Weight on Bit  Hole Depth  Bit Depth  Hook Load  Standpipe Pressure  \\\n",
       "3889            5.1        58.7       58.7       15.7               138.0   \n",
       "3890            5.3        58.8       58.7       13.5               169.0   \n",
       "4417            6.1        59.1       59.1        5.5               250.0   \n",
       "4418            6.2        59.6       59.6        2.9               299.0   \n",
       "4419            6.1        59.7       59.7        2.7               318.0   \n",
       "\n",
       "               timestamp  \n",
       "3889 2015-07-06 22:50:20  \n",
       "3890 2015-07-06 22:50:30  \n",
       "4417 2015-07-07 00:18:20  \n",
       "4418 2015-07-07 00:18:30  \n",
       "4419 2015-07-07 00:18:40  "
      ]
     },
     "execution_count": 77,
     "metadata": {},
     "output_type": "execute_result"
    }
   ],
   "source": [
    "df2 = df.copy()\n",
    "df2.head()"
   ]
  },
  {
   "cell_type": "markdown",
   "metadata": {},
   "source": [
    "### Definition of multipanelts_plot — Dynamic Visualization Function\n",
    "An interactive time series plot function is defined, taking an index value (simulating temporal progression) and plotting all four parameters cumulatively up to that index. This mimics \"playback\" of drilling conditions — a powerful visual diagnostic tool for understanding operational progression and detecting when perturbations or dysfunctions emerge."
   ]
  },
  {
   "cell_type": "code",
   "execution_count": 78,
   "metadata": {},
   "outputs": [],
   "source": [
    "\n",
    "def multipanelts_plot(index):\n",
    "    df1 = df.copy()\n",
    "    start = '2015-07-13 00:04:00'\n",
    "    end = '2015-07-17 00:18:00'\n",
    "    df1 = df1[(df1['timestamp'] >= start ) & (df1['timestamp'] <= end)]\n",
    "    df1 = df1[df1.index <= index]\n",
    "    df1.index = df1['timestamp']\n",
    "    # Create figure and axis object\n",
    "    fig, ax = plt.subplots(nrows=4, ncols=1, figsize=(12,6), sharex=True, gridspec_kw={'hspace': 0.1})\n",
    "\n",
    "    # Plot each panel\n",
    "    ax[0].plot(df1['timestamp'], df1['On Bottom ROP'], color='blue', linewidth=2, label='ROP')\n",
    "    ax[1].plot(df1['timestamp'], df1['Weight on Bit'], color='green', linewidth=2, label='WOB')\n",
    "    ax[2].plot(df1['timestamp'], df1['Rotary Torque'], color='red', linewidth=2, label='TORQUE')\n",
    "    ax[3].plot(df1['timestamp'], df1['Standpipe Pressure'], color='purple', linewidth=2, label='SPP')\n",
    "\n",
    "    # Add titles and labels\n",
    "    plt.suptitle('Drilling Parameters over Time')\n",
    "    # ax[0].set_title('Rate of Penetration')\n",
    "    # ax[1].set_title('Weight on Bit')\n",
    "    # ax[2].set_title('Torque')\n",
    "    # ax[3].set_title('Stand Pipe Pressure')\n",
    "\n",
    "    ax[0].set_ylabel('ROP (m/h)')\n",
    "    ax[1].set_ylabel('WOB (kN)')\n",
    "    ax[2].set_ylabel('TORQUE (kNm)')\n",
    "    ax[3].set_ylabel('SPP')\n",
    "    ax[3].set_xlabel('timestamp')\n",
    "\n",
    "    # Add legends\n",
    "    ax[0].legend(loc='upper left')\n",
    "    ax[1].legend(loc='upper left')\n",
    "    ax[2].legend(loc='upper left')\n",
    "    ax[3].legend(loc='upper left')\n",
    "\n",
    "    # Adjust spacing and layout\n",
    "    plt.tight_layout()\n",
    "    plt.subplots_adjust(top=0.9)\n",
    "\n",
    "    # Show or save plot\n",
    "    plt.show()\n",
    "    # plt.savefig('drilling_plot.png')\n"
   ]
  },
  {
   "cell_type": "markdown",
   "metadata": {},
   "source": [
    "The dataframe's maximum index is queried to define the slider bounds. This ensures the widgets are tuned precisely to the dataset's operational range."
   ]
  },
  {
   "cell_type": "code",
   "execution_count": 79,
   "metadata": {},
   "outputs": [
    {
     "data": {
      "text/plain": [
       "67249"
      ]
     },
     "execution_count": 79,
     "metadata": {},
     "output_type": "execute_result"
    }
   ],
   "source": [
    "df.index.max()"
   ]
  },
  {
   "cell_type": "code",
   "execution_count": 80,
   "metadata": {},
   "outputs": [
    {
     "data": {
      "text/plain": [
       "6531"
      ]
     },
     "execution_count": 80,
     "metadata": {},
     "output_type": "execute_result"
    }
   ],
   "source": [
    "df1 = df.copy()\n",
    "#df1['timestamp'] = pd.to_datetime(df1['timestamp'])\n",
    "df1 = df1[(df1['timestamp'] >= '2015-07-13 00:04:00') & (df1['timestamp'] <= '2015-07-17 00:18:00')]\n",
    "len(df1)\n"
   ]
  },
  {
   "cell_type": "markdown",
   "metadata": {},
   "source": [
    "### Widget Slider and Interactive Playback Control\n",
    "An ipywidgets slider and play button are configured, allowing engineers to dynamically control the time window fed into `multipanelts_plot()`. This real-time interactivity simulates drilling video playback — enabling human-in-the-loop time series exploration of high-frequency rig sensor data."
   ]
  },
  {
   "cell_type": "markdown",
   "metadata": {},
   "source": [
    "### Interactive Playback for `multipanelts_plot`\n",
    "The interactive slider and playback widgets are instantiated with linked value changes, driving the previously defined plotting function. This brings the analytical narrative to life, letting engineers \"scroll\" through drilling history with parameter co-evolution visualized in sync."
   ]
  },
  {
   "cell_type": "code",
   "execution_count": 81,
   "metadata": {},
   "outputs": [
    {
     "data": {
      "application/vnd.jupyter.widget-view+json": {
       "model_id": "8120eb5b327d497f884dbe3bbb96cc86",
       "version_major": 2,
       "version_minor": 0
      },
      "text/plain": [
       "HBox(children=(Play(value=54962, description='Play', interval=200, max=67249, min=54962, step=20),))"
      ]
     },
     "metadata": {},
     "output_type": "display_data"
    },
    {
     "data": {
      "application/vnd.jupyter.widget-view+json": {
       "model_id": "6f1a428e397441f2b461feb7e7fa8f3e",
       "version_major": 2,
       "version_minor": 0
      },
      "text/plain": [
       "interactive(children=(FloatSlider(value=54962.0, description='Index:', max=67249.0, min=54962.0, step=50.0), O…"
      ]
     },
     "execution_count": 81,
     "metadata": {},
     "output_type": "execute_result"
    }
   ],
   "source": [
    "df1 = df.copy()\n",
    "start = '2015-07-13 00:04:00'\n",
    "end = '2015-07-17 00:18:00'\n",
    "df1 = df1[(df1['timestamp'] >= start) & (df1['timestamp'] <= end)]\n",
    "# Create a slider for controlling depth or time\n",
    "time_slider = widgets.FloatSlider(\n",
    "    value=df1.index.min(),\n",
    "    min=df1.index.min(),\n",
    "    max=df1.index.max(),\n",
    "    step=50,\n",
    "    description='Index:'\n",
    ")\n",
    "\n",
    "play_button = widgets.Play(\n",
    "    interval=200,  # Adjust the interval (milliseconds) as needed\n",
    "    value=df1.index.min(),\n",
    "    min=df1.index.min(),\n",
    "    max=df1.index.max(),\n",
    "    step=20,\n",
    "    description=\"Play\",\n",
    "    disabled=False\n",
    ")\n",
    "\n",
    "widgets.jslink((play_button, 'value'), (time_slider, 'value'))\n",
    "\n",
    "# Display the widgets\n",
    "display(widgets.HBox([play_button]))\n",
    "#display(depth_slider)\n",
    "# widgets.interactive(log_plot1(df), depth=depth_slider)\n",
    "widgets.interactive(multipanelts_plot, index=time_slider)\n",
    "\n"
   ]
  },
  {
   "cell_type": "code",
   "execution_count": 83,
   "metadata": {},
   "outputs": [
    {
     "data": {
      "text/plain": [
       "Index(['Rate Of Penetration', 'On Bottom ROP', 'Rotary RPM', 'Rotary Torque',\n",
       "       'Weight on Bit', 'Hole Depth', 'Bit Depth', 'Hook Load',\n",
       "       'Standpipe Pressure', 'timestamp'],\n",
       "      dtype='object')"
      ]
     },
     "execution_count": 83,
     "metadata": {},
     "output_type": "execute_result"
    }
   ],
   "source": [
    "df.columns"
   ]
  },
  {
   "cell_type": "code",
   "execution_count": 84,
   "metadata": {},
   "outputs": [],
   "source": [
    "#pip install nbformat>=4.2.0"
   ]
  },
  {
   "cell_type": "markdown",
   "metadata": {},
   "source": [
    "### Enhanced Multi-Panel Plot Function with Clipped Axes\n",
    "A second plotting function `multipanelts_plot2` is defined — this time with calibrated axis limits for each subplot. This improvement ensures consistent scale interpretation across multiple interactive sessions. For instance, capping ROP or Torque makes anomalies or outliers visually pop out, rather than compressing the meaningful signal."
   ]
  },
  {
   "cell_type": "code",
   "execution_count": 85,
   "metadata": {},
   "outputs": [],
   "source": [
    "\n",
    "def multipanelts_plot2(index):\n",
    "    df1 = df.copy()\n",
    "    start = '2015-07-13 00:04:00'\n",
    "    end = '2015-07-14 00:10:00'\n",
    "    df1 = df1[(df1['timestamp'] >= start ) & (df1['timestamp'] <= end)]\n",
    "    df1 = df1[df1.index <= index]\n",
    "    #df1.index = df1['timestamp']\n",
    "    # Create figure and axis object\n",
    "    fig, ax = plt.subplots(nrows=4, ncols=1, figsize=(12,6), sharex=True, gridspec_kw={'hspace': 0.1})\n",
    "\n",
    "    # Plot each panel\n",
    "    ax[0].plot(df1['timestamp'], df1['On Bottom ROP'], color='blue', linewidth=2, label='ROP')\n",
    "    ax[1].plot(df1['timestamp'], df1['Weight on Bit'], color='green', linewidth=2, label='WOB')\n",
    "    ax[2].plot(df1['timestamp'], df1['Rotary Torque'], color='red', linewidth=2, label='TORQUE')\n",
    "    ax[3].plot(df1['timestamp'], df1['Standpipe Pressure'], color='purple', linewidth=2, label='SPP')\n",
    "\n",
    "    # Set x-axis limits for all subplots (assuming the same limits for all)\n",
    "    x_min = pd.to_datetime(start)  # Convert start and end to datetime objects\n",
    "    x_max = pd.to_datetime(end)\n",
    "\n",
    "    # Add titles and labels\n",
    "    plt.suptitle('Drilling Parameters over Time')\n",
    "    # ax[0].set_title('Rate of Penetration')\n",
    "    # ax[1].set_title('Weight on Bit')\n",
    "    # ax[2].set_title('Torque')\n",
    "    # ax[3].set_title('Stand Pipe Pressure')\n",
    "\n",
    "    ax[0].set_ylabel('ROP (m/h)')\n",
    "    ax[0].set_xlim(x_min, x_max)\n",
    "    ax[0].set_ylim(0, 345.23)\n",
    "    ax[1].set_ylabel('WOB (kN)')\n",
    "    ax[1].set_xlim(x_min, x_max)\n",
    "    ax[1].set_ylim(0, 15)\n",
    "    ax[2].set_ylabel('TORQUE (kNm)')\n",
    "    ax[2].set_xlim(x_min, x_max)\n",
    "    ax[2].set_ylim(325, 6078)\n",
    "    ax[3].set_ylabel('SPP')\n",
    "    ax[3].set_xlim(x_min, x_max)\n",
    "    ax[3].set_ylim(300, 572)\n",
    "    ax[3].set_xlabel('timestamp')\n",
    "\n",
    "    # Add legends\n",
    "    ax[0].legend(loc='upper left')\n",
    "    ax[1].legend(loc='upper left')\n",
    "    ax[2].legend(loc='upper left')\n",
    "    ax[3].legend(loc='upper left')\n",
    "\n",
    "    # Adjust spacing and layout\n",
    "    plt.tight_layout()\n",
    "    plt.subplots_adjust(top=0.9)\n",
    "\n",
    "    # Show or save plot\n",
    "    plt.show()\n",
    "    # plt.savefig('drilling_plot.png')\n"
   ]
  },
  {
   "cell_type": "markdown",
   "metadata": {},
   "source": [
    "### Playback Interface for `multipanelts_plot2`\n",
    "A second playback widget is built and linked to the updated plot function. This segment further empowers interactive diagnostics — now with consistent axis framing and tighter time windows (`July 13 – July 14`), ideal for studying specific drilling events (e.g., BHA change, reaming, bit stalls)."
   ]
  },
  {
   "cell_type": "code",
   "execution_count": 86,
   "metadata": {},
   "outputs": [
    {
     "data": {
      "application/vnd.jupyter.widget-view+json": {
       "model_id": "e615ada4cda04cb4a6cac9f444811f9a",
       "version_major": 2,
       "version_minor": 0
      },
      "text/plain": [
       "HBox(children=(Play(value=54962, description='Play', max=63638, min=54962, step=5),))"
      ]
     },
     "metadata": {},
     "output_type": "display_data"
    },
    {
     "data": {
      "application/vnd.jupyter.widget-view+json": {
       "model_id": "204f61bb26b3475c831ebda4271d6f29",
       "version_major": 2,
       "version_minor": 0
      },
      "text/plain": [
       "interactive(children=(FloatSlider(value=54962.0, description='Index:', max=63638.0, min=54962.0, step=5.0), Ou…"
      ]
     },
     "execution_count": 86,
     "metadata": {},
     "output_type": "execute_result"
    }
   ],
   "source": [
    "df1 = df.copy()\n",
    "start = '2015-07-13 00:04:00'\n",
    "end = '2015-07-14 00:10:00'\n",
    "df1 = df1[(df1['timestamp'] >= start) & (df1['timestamp'] <= end)]\n",
    "# Create a slider for controlling time\n",
    "time_slider = widgets.FloatSlider(\n",
    "    value=df1.index.min(),\n",
    "    min=df1.index.min(),\n",
    "    max=df1.index.max(),\n",
    "    step=5,\n",
    "    description='Index:'\n",
    ")\n",
    "\n",
    "play_button = widgets.Play(\n",
    "    interval=100,  # Adjust the interval (milliseconds) as needed\n",
    "    value=df1.index.min(),\n",
    "    min=df1.index.min(),\n",
    "    max=df1.index.max(),\n",
    "    step=5,\n",
    "    description=\"Play\",\n",
    "    disabled=False\n",
    ")\n",
    "\n",
    "widgets.jslink((play_button, 'value'), (time_slider, 'value'))\n",
    "\n",
    "\n",
    "# Display the widgets\n",
    "display(widgets.HBox([play_button]))\n",
    "#display(depth_slider)\n",
    "# widgets.interactive(log_plot1(df), depth=depth_slider)\n",
    "widgets.interactive(multipanelts_plot2, index=time_slider)\n",
    "\n"
   ]
  },
  {
   "cell_type": "code",
   "execution_count": null,
   "metadata": {},
   "outputs": [],
   "source": [
    "# pip install ipywidgets \n",
    "# conda install -y nodejs\n",
    "# pip install --upgrade jupyterlab\n",
    "# jupyter labextension install @jupyter-widgets/jupyterlab-manager\n",
    "# jupyter labextension install jupyter-matplotlib\n",
    "# jupyter nbextension enable --py widgetsnbextension"
   ]
  },
  {
   "cell_type": "markdown",
   "metadata": {},
   "source": [
    "_**Author: Destiny Otto**_"
   ]
  }
 ],
 "metadata": {
  "kernelspec": {
   "display_name": "Python 3",
   "language": "python",
   "name": "python3"
  },
  "language_info": {
   "codemirror_mode": {
    "name": "ipython",
    "version": 3
   },
   "file_extension": ".py",
   "mimetype": "text/x-python",
   "name": "python",
   "nbconvert_exporter": "python",
   "pygments_lexer": "ipython3",
   "version": "3.12.10"
  }
 },
 "nbformat": 4,
 "nbformat_minor": 2
}
